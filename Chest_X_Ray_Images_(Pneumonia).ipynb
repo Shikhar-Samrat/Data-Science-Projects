{
  "nbformat": 4,
  "nbformat_minor": 0,
  "metadata": {
    "colab": {
      "provenance": [],
      "gpuType": "V28"
    },
    "kernelspec": {
      "name": "python3",
      "display_name": "Python 3"
    },
    "language_info": {
      "name": "python"
    },
    "accelerator": "TPU"
  },
  "cells": [
    {
      "cell_type": "markdown",
      "source": [
        "### Importing dependencies"
      ],
      "metadata": {
        "id": "m3XGXaVyZtDl"
      }
    },
    {
      "cell_type": "code",
      "source": [
        "# Importing various libraries\n",
        "import tensorflow as tf\n",
        "import pandas as pd\n",
        "import numpy as np\n",
        "import matplotlib.pyplot as plt\n",
        "import cv2\n",
        "import os\n",
        "from PIL import Image\n",
        "import matplotlib.image as mpimg\n",
        "from tensorflow.keras.preprocessing.image import ImageDataGenerator\n",
        "from tensorflow.keras import layers, models"
      ],
      "metadata": {
        "id": "6W2rHqGENAFq"
      },
      "execution_count": 1,
      "outputs": []
    },
    {
      "cell_type": "code",
      "source": [
        "# From path of image directory making list of image path\n",
        "train = '/content/drive/MyDrive/Data Science Learning/Chest X-Ray Images (Pneumonia)/train'\n",
        "val = '/content/drive/MyDrive/Data Science Learning/Chest X-Ray Images (Pneumonia)/val'"
      ],
      "metadata": {
        "id": "tas8n4Ux9KGw"
      },
      "execution_count": null,
      "outputs": []
    },
    {
      "cell_type": "markdown",
      "source": [
        "# Doing preprocessing of image data"
      ],
      "metadata": {
        "id": "TUQllJu1e5nG"
      }
    },
    {
      "cell_type": "code",
      "source": [
        "# Image parameters\n",
        "img_size = 224\n",
        "batch_size = 32"
      ],
      "metadata": {
        "id": "icA2ZnNXNvOx"
      },
      "execution_count": null,
      "outputs": []
    },
    {
      "cell_type": "code",
      "source": [
        "# Image data generator\n",
        "data_gen = ImageDataGenerator(\n",
        "    rescale = 1./255,\n",
        ")"
      ],
      "metadata": {
        "id": "jEnnTmGOwJE4"
      },
      "execution_count": null,
      "outputs": []
    },
    {
      "cell_type": "code",
      "source": [
        "# Train generator\n",
        "train_gen = data_gen.flow_from_directory(\n",
        "    train,\n",
        "    target_size = (img_size, img_size),\n",
        "    batch_size = batch_size,\n",
        "    class_mode = 'binary'\n",
        ")"
      ],
      "metadata": {
        "colab": {
          "base_uri": "https://localhost:8080/"
        },
        "id": "WrC2Rty5xgjK",
        "outputId": "ac1f377f-406c-4151-9a54-4233ae11065a"
      },
      "execution_count": null,
      "outputs": [
        {
          "output_type": "stream",
          "name": "stdout",
          "text": [
            "Found 5230 images belonging to 2 classes.\n"
          ]
        }
      ]
    },
    {
      "cell_type": "code",
      "source": [
        "# Val generator\n",
        "val_gen = data_gen.flow_from_directory(\n",
        "    val,\n",
        "    target_size = (img_size, img_size),\n",
        "    batch_size = batch_size,\n",
        "    class_mode = 'binary'\n",
        ")"
      ],
      "metadata": {
        "colab": {
          "base_uri": "https://localhost:8080/"
        },
        "id": "IiqbJXC9yLdt",
        "outputId": "21419052-b248-4c2d-ff7e-bfd33b38e384"
      },
      "execution_count": null,
      "outputs": [
        {
          "output_type": "stream",
          "name": "stdout",
          "text": [
            "Found 16 images belonging to 2 classes.\n"
          ]
        }
      ]
    },
    {
      "cell_type": "markdown",
      "source": [
        "## Building CNN model"
      ],
      "metadata": {
        "id": "taUMDjo60tWb"
      }
    },
    {
      "cell_type": "code",
      "source": [
        "# Building CNN architecture\n",
        "\n",
        "model = models.Sequential()\n",
        "\n",
        "model.add(layers.Conv2D(32, (3,3), activation='relu', input_shape=(img_size, img_size, 3)))\n",
        "model.add(layers.MaxPooling2D(2,2))\n",
        "\n",
        "model.add(layers.Conv2D(64, (3,3), activation='relu'))\n",
        "model.add(layers.MaxPooling2D(2,2))\n",
        "\n",
        "model.add(layers.Conv2D(128, (3,3), activation='relu'))\n",
        "model.add(layers.MaxPooling2D(2,2))\n",
        "\n",
        "model.add(layers.Flatten())\n",
        "\n",
        "model.add(layers.Dense(256, activation='relu'))\n",
        "model.add(layers.Dense(128, activation='relu'))\n",
        "model.add(layers.Dense(train_gen.num_classes, activation='sigmoid'))"
      ],
      "metadata": {
        "id": "PEdWuQHuyxFP"
      },
      "execution_count": null,
      "outputs": []
    },
    {
      "cell_type": "code",
      "source": [
        "# Model Summary\n",
        "model.summary()"
      ],
      "metadata": {
        "colab": {
          "base_uri": "https://localhost:8080/"
        },
        "id": "31Ihcx2d2NrH",
        "outputId": "6b776284-c429-43f0-ba1a-4d0ac53d696a"
      },
      "execution_count": null,
      "outputs": [
        {
          "output_type": "stream",
          "name": "stdout",
          "text": [
            "Model: \"sequential\"\n",
            "_________________________________________________________________\n",
            " Layer (type)                Output Shape              Param #   \n",
            "=================================================================\n",
            " conv2d (Conv2D)             (None, 222, 222, 32)      896       \n",
            "                                                                 \n",
            " max_pooling2d (MaxPooling2  (None, 111, 111, 32)      0         \n",
            " D)                                                              \n",
            "                                                                 \n",
            " conv2d_1 (Conv2D)           (None, 109, 109, 64)      18496     \n",
            "                                                                 \n",
            " max_pooling2d_1 (MaxPoolin  (None, 54, 54, 64)        0         \n",
            " g2D)                                                            \n",
            "                                                                 \n",
            " conv2d_2 (Conv2D)           (None, 52, 52, 128)       73856     \n",
            "                                                                 \n",
            " max_pooling2d_2 (MaxPoolin  (None, 26, 26, 128)       0         \n",
            " g2D)                                                            \n",
            "                                                                 \n",
            " flatten (Flatten)           (None, 86528)             0         \n",
            "                                                                 \n",
            " dense (Dense)               (None, 256)               22151424  \n",
            "                                                                 \n",
            " dense_1 (Dense)             (None, 128)               32896     \n",
            "                                                                 \n",
            " dense_2 (Dense)             (None, 2)                 258       \n",
            "                                                                 \n",
            "=================================================================\n",
            "Total params: 22277826 (84.98 MB)\n",
            "Trainable params: 22277826 (84.98 MB)\n",
            "Non-trainable params: 0 (0.00 Byte)\n",
            "_________________________________________________________________\n"
          ]
        }
      ]
    },
    {
      "cell_type": "code",
      "source": [
        "# Compile the model\n",
        "model.compile(optimizer='adam',loss='sparse_categorical_crossentropy', metrics=['accuracy'])"
      ],
      "metadata": {
        "id": "BU9rr-4R2UiX"
      },
      "execution_count": null,
      "outputs": []
    },
    {
      "cell_type": "code",
      "source": [
        "# Training the model\n",
        "history = model.fit(train_gen, epochs=5, validation_data=val_gen)     # Keeping only 5 epochs because it takes too much time"
      ],
      "metadata": {
        "id": "VW7uutor3Fr9",
        "colab": {
          "base_uri": "https://localhost:8080/"
        },
        "outputId": "bb940926-1d11-4a02-9074-995cfd6ac867"
      },
      "execution_count": null,
      "outputs": [
        {
          "output_type": "stream",
          "name": "stdout",
          "text": [
            "Epoch 1/5\n",
            "164/164 [==============================] - 923s 6s/step - loss: 0.2989 - accuracy: 0.8836 - val_loss: 0.3918 - val_accuracy: 0.7500\n",
            "Epoch 2/5\n",
            "164/164 [==============================] - 80s 484ms/step - loss: 0.1234 - accuracy: 0.9551 - val_loss: 0.1189 - val_accuracy: 1.0000\n",
            "Epoch 3/5\n",
            "164/164 [==============================] - 81s 490ms/step - loss: 0.0758 - accuracy: 0.9723 - val_loss: 0.5618 - val_accuracy: 0.8125\n",
            "Epoch 4/5\n",
            "164/164 [==============================] - 80s 483ms/step - loss: 0.0596 - accuracy: 0.9784 - val_loss: 0.2144 - val_accuracy: 0.8750\n",
            "Epoch 5/5\n",
            "164/164 [==============================] - 80s 485ms/step - loss: 0.0466 - accuracy: 0.9824 - val_loss: 0.1797 - val_accuracy: 0.9375\n"
          ]
        }
      ]
    },
    {
      "cell_type": "markdown",
      "source": [
        "By training the data .... Our model gives a validation score of 93.75%"
      ],
      "metadata": {
        "id": "DTnwqMw8syHQ"
      }
    },
    {
      "cell_type": "markdown",
      "source": [
        "### Building a predictive system"
      ],
      "metadata": {
        "id": "sytXLVfQWEuf"
      }
    },
    {
      "cell_type": "code",
      "source": [
        "image_path = 'Enter image path'"
      ],
      "metadata": {
        "id": "dVPALvR62Yo7"
      },
      "execution_count": 14,
      "outputs": []
    },
    {
      "cell_type": "code",
      "source": [
        "# function to preprocess input image\n",
        "def preprocess(image_path):\n",
        "  img = cv2.imread(image_path)\n",
        "  img = cv2.cvtColor(img, cv2.COLOR_BGR2RGB)\n",
        "  img = cv2.resize(img, (224,224))\n",
        "  img = img/255\n",
        "  img = np.reshape(img, [1,224,224,3])\n",
        "  return img"
      ],
      "metadata": {
        "id": "K-OP9t2Gv5Q6"
      },
      "execution_count": 10,
      "outputs": []
    },
    {
      "cell_type": "code",
      "source": [
        "# function to predict the class\n",
        "def predict_image_class(model, image_path, class_indices):\n",
        "    image = preprocess(image_path)\n",
        "    prediction = model.predict(image)\n",
        "    predicted_class_index = np.argmax(prediction)\n",
        "    predicted_class_name = class_indices[predicted_class_index]\n",
        "    return predicted_class_name"
      ],
      "metadata": {
        "id": "DQMAFySww3HE"
      },
      "execution_count": 11,
      "outputs": []
    },
    {
      "cell_type": "code",
      "source": [
        "# create a mapping from class indices to class names\n",
        "class_indices = {0: 'Normal', 1: 'Pneumonia'}"
      ],
      "metadata": {
        "id": "B3-gqfKyxNSz"
      },
      "execution_count": 12,
      "outputs": []
    },
    {
      "cell_type": "code",
      "source": [
        "print(predict_image_class(model, image_path, class_indices))"
      ],
      "metadata": {
        "id": "HrtBMv0Tx9eN",
        "colab": {
          "base_uri": "https://localhost:8080/"
        },
        "outputId": "6ec443a1-7111-41b8-87fd-d2b740bfa7aa"
      },
      "execution_count": 15,
      "outputs": [
        {
          "output_type": "stream",
          "name": "stdout",
          "text": [
            "1/1 [==============================] - 0s 50ms/step\n",
            "Pneumonia\n"
          ]
        }
      ]
    },
    {
      "cell_type": "code",
      "source": [],
      "metadata": {
        "id": "SAL8GKLJyFgI"
      },
      "execution_count": null,
      "outputs": []
    }
  ]
}